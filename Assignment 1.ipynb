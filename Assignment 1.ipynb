{
 "cells": [
  {
   "cell_type": "markdown",
   "metadata": {},
   "source": [
    "Q1: \n",
    "\n",
    "Write a Python function that takes an array of integers as an argument and\n",
    "returns a new array containing only the odd numbers in the original array.\n"
   ]
  },
  {
   "cell_type": "code",
   "execution_count": 1,
   "metadata": {},
   "outputs": [
    {
     "data": {
      "text/plain": [
       "array([63, 95, 45, 31])"
      ]
     },
     "execution_count": 1,
     "metadata": {},
     "output_type": "execute_result"
    }
   ],
   "source": [
    "# Function is odd_arr(x),which takes an array of integer as argument(x)\n",
    "import numpy as np\n",
    "\n",
    "def odd_arr(x): \n",
    "    x1=[]\n",
    "    for i in x:\n",
    "        if i%2==1:\n",
    "            x1.append(i)\n",
    "    y=np.array(x1)\n",
    "    return y\n",
    "\n",
    "#Example\n",
    "x=np.array([78,63,95,45,88,48,62,31])\n",
    "odd_arr(x)\n"
   ]
  },
  {
   "cell_type": "markdown",
   "metadata": {},
   "source": [
    "Q2:\n",
    "\n",
    " Create a class called Dog with attributes name and breed. Add a method called bark that prints a message with the dog's name and a barking sound.\n"
   ]
  },
  {
   "cell_type": "code",
   "execution_count": 2,
   "metadata": {},
   "outputs": [
    {
     "name": "stdout",
     "output_type": "stream",
     "text": [
      "Hello friend!\n",
      "Your dog name is Spike and its barking sound is Growl\n"
     ]
    }
   ],
   "source": [
    "# Creating a class named Dog\n",
    "class Dog:\n",
    "    def __init__(self,name,breed):\n",
    "        self.name=name\n",
    "        self.breed=breed\n",
    "\n",
    "# defining the bark function\n",
    "def bark(Dog):\n",
    "    bark_sound={'Bulldog':'Growl','German Shepherd':'Whimpers','Labrador':'Grunt','Husky':'Howl'}\n",
    "    print('Hello friend!\\nYour dog name is',Dog.name,'and its barking sound is',bark_sound[Dog.breed])\n",
    "\n",
    "\n",
    "# Example\n",
    "D1=Dog('Spike','Bulldog')\n",
    "bark(D1)"
   ]
  },
  {
   "cell_type": "markdown",
   "metadata": {},
   "source": [
    "Q3. \n",
    "\n",
    "Write a Python program that creates a numpy array of 100 random integers\n",
    "between 0 and 100, and prints any 2 measures of central tendency and 2 measures\n",
    "of spread of the array.\n"
   ]
  },
  {
   "cell_type": "code",
   "execution_count": 3,
   "metadata": {},
   "outputs": [
    {
     "name": "stdout",
     "output_type": "stream",
     "text": [
      "[81 20 53 83 83 98 52 42 46 97 89 29 27  6 34 37 16 80 85 79 98  4 55  9\n",
      " 21 62 20 99 49 64 21 69 59 65 89 50 95 42 50 35 85 59  0 90 80 35 62 86\n",
      " 20 30 98 96 39 98 49 69 93 52 80  3 45 62 23 37 94  4 90 98 32  9  5  7\n",
      " 63 19 70 80 53 64  0 54 80 76 28 49 75  7 55 32 17 66 13 29 41 14 70 77\n",
      " 40 56 43 75]\n",
      "\n",
      "The mean of array is 52.69\n",
      "The median of array is 53.0\n",
      "\n",
      "The standard deviation of array is 29.273774953018957\n",
      "The range of array is 99\n"
     ]
    }
   ],
   "source": [
    "import numpy as np\n",
    "# Creating a random array\n",
    "arr=np.random.randint(100,size=100)\n",
    "print(arr)\n",
    "\n",
    "# Measures of central tendency\n",
    "print('\\nThe mean of array is',np.sum(arr)/100)\n",
    "print('The median of array is',np.median(arr))\n",
    "\n",
    "# Measures of spread\n",
    "print('\\nThe standard deviation of array is',np.std(arr))\n",
    "print('The range of array is',np.ptp(arr))"
   ]
  },
  {
   "cell_type": "markdown",
   "metadata": {},
   "source": [
    "Q1: Mandatory\n",
    "\n",
    "Create a class which defines an __init__ function that initializes the class\n",
    "attribute array. Define another function get_array which takes inputs for the\n",
    "length of the array and inputs all the elements, and returns its corresponding sorted\n",
    "Array.\n"
   ]
  },
  {
   "cell_type": "code",
   "execution_count": null,
   "metadata": {},
   "outputs": [],
   "source": [
    "import numpy as np\n",
    "\n",
    "# Creating a Class-\n",
    "class array:\n",
    "    def __init__(self,length,elements):\n",
    "        self.length=length\n",
    "        self.elements=elements\n",
    "\n",
    "\n",
    "# Function get_array    \n",
    "def get_array(array):\n",
    "    return np.sort(np.array(array.elements))\n",
    "\n",
    "# Enter length of array\n",
    "l=int(input('Enter length of array '))\n",
    "\n",
    "#Enter respective elements\n",
    "try:\n",
    "    e=[]\n",
    "    for i in range(l):\n",
    "        e.append(int(input(f'Enter element {i+1} [All elements should be of same type]')))\n",
    "except ValueError:\n",
    "    e=[]\n",
    "    for i in range(l):\n",
    "        e.append(input(f'Enter element {i+1} [All elements should be of same type]'))\n",
    "\n",
    "arr=array(l,e)\n",
    "print('Original:',np.array(arr.elements))\n",
    "print('Sorted:',get_array(arr))\n",
    "\n"
   ]
  },
  {
   "cell_type": "markdown",
   "metadata": {},
   "source": [
    "Q2: Mandatory\n",
    "\n",
    "Write a single code for all parts of this question.\n",
    "\n",
    "A. Create a 2D array of size 4*4 using list and perform the following\n",
    "operations:\n",
    "1. extract the diagonal elements from the array\n",
    "2. Find the trace of the Matrix\n",
    "3. Find the max and min element of each row in that matrix\n",
    "(Hint: convert that 2D list to Numpy Array to make the problem simple)\n",
    "\n",
    "B. Create another 2D numpy array with shape (4, 5) where each element of the\n",
    "array is a random float between 0 and 1, inclusive, using numpy's uniform\n",
    "distribution function. Print the resulting numpy array.\n",
    "\n",
    "C. Multiply the numpy arrays created in Part A and Part B element-wise, and\n",
    "print the resulting numpy array.\n",
    "\n"
   ]
  },
  {
   "cell_type": "code",
   "execution_count": 4,
   "metadata": {},
   "outputs": [
    {
     "name": "stdout",
     "output_type": "stream",
     "text": [
      "Array A:\n",
      "[[2 4 2 3]\n",
      " [9 3 1 2]\n",
      " [4 3 3 1]\n",
      " [0 9 7 1]]\n",
      "\n",
      "Diagonal elements are = [2 3 3 1]\n",
      "Trace of matrix = 9\n",
      "Max element in each row respectively = [4 9 4 9]\n",
      "Min element in each row respectively = [2 1 1 0]\n",
      "\n",
      "Array B:\n",
      "[[0.57509353 0.43778339 0.32524069 0.94234957 0.55714813]\n",
      " [0.3252144  0.5182211  0.55056072 0.43101398 0.82338006]\n",
      " [0.6691582  0.19197253 0.21145205 0.81305183 0.14900465]\n",
      " [0.41429348 0.91177822 0.63900224 0.63985151 0.45649945]]\n",
      "\n",
      "Multiplicative Array:\n",
      "[[ 5.0322415   6.06773088  5.1926351   7.15441324  6.07532415]\n",
      " [ 7.64923013  7.5102428   6.06830492 11.86694289  8.54647688]\n",
      " [ 5.6977854   4.79349266  4.22600333  8.1414472   5.60224608]\n",
      " [ 8.02533048  6.91957577  7.07421311 10.21034014  8.90995253]]\n"
     ]
    }
   ],
   "source": [
    "# Creating a 2D List\n",
    "rows,columns=(4,4)\n",
    "list=[[2,4,2,3],[9,3,1,2],[4,3,3,1],[0,9,7,1]]\n",
    "# Creating 2D array A\n",
    "import numpy as np\n",
    "arr1=np.array(list)\n",
    "print('Array A:')\n",
    "print(arr1)\n",
    "print('\\nDiagonal elements are =',np.diag(arr1))   # 1. Extracting diagonal elements\n",
    "print('Trace of matrix =',np.sum(np.diag(arr1))) # 2. Finding trace of matrix\n",
    "print('Max element in each row respectively =',np.max(arr1,axis=1)) # Finding Maximum element \n",
    "print('Min element in each row respectively =',np.min(arr1,axis=1)) # Finding Minimum element\n",
    "\n",
    "# array B\n",
    "arr2=np.random.uniform(size=(4,5))\n",
    "print('\\nArray B:')\n",
    "print(arr2)\n",
    "\n",
    "# Part C\n",
    "print('\\nMultiplicative Array:')\n",
    "print(np.dot(arr1,arr2))"
   ]
  }
 ],
 "metadata": {
  "kernelspec": {
   "display_name": "base",
   "language": "python",
   "name": "python3"
  },
  "language_info": {
   "codemirror_mode": {
    "name": "ipython",
    "version": 3
   },
   "file_extension": ".py",
   "mimetype": "text/x-python",
   "name": "python",
   "nbconvert_exporter": "python",
   "pygments_lexer": "ipython3",
   "version": "3.11.5"
  }
 },
 "nbformat": 4,
 "nbformat_minor": 2
}
