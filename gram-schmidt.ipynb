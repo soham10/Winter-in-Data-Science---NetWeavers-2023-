{
 "cells": [
  {
   "cell_type": "code",
   "execution_count": 1,
   "metadata": {},
   "outputs": [],
   "source": [
    "import numpy as np\n",
    "from numpy import linalg as l"
   ]
  },
  {
   "cell_type": "code",
   "execution_count": 8,
   "metadata": {},
   "outputs": [
    {
     "name": "stdout",
     "output_type": "stream",
     "text": [
      "[array([ 0.70710678, -0.70710678,  0.        ]), array([ 0.40824829,  0.40824829, -0.81649658]), array([ 0.26726124, -0.80178373,  0.53452248])]\n"
     ]
    }
   ],
   "source": [
    "v1=np.array([1,-1,0])\n",
    "v2=np.array([0,1,-1])\n",
    "v3=np.array([1,0,-1])\n",
    "basis=[v1,v2,v3]\n",
    "u1=v1/l.norm(v1)\n",
    "new_basis=[u1]\n",
    "for i in range(1,3):\n",
    "    p=0\n",
    "    for j in range(i):\n",
    "        p+=np.dot(basis[i],new_basis[j])*new_basis[j]\n",
    "    u=(basis[i]-p)/l.norm(basis[i]-p)\n",
    "    new_basis.append(u)\n",
    "print(new_basis)"
   ]
  }
 ],
 "metadata": {
  "kernelspec": {
   "display_name": "base",
   "language": "python",
   "name": "python3"
  },
  "language_info": {
   "codemirror_mode": {
    "name": "ipython",
    "version": 3
   },
   "file_extension": ".py",
   "mimetype": "text/x-python",
   "name": "python",
   "nbconvert_exporter": "python",
   "pygments_lexer": "ipython3",
   "version": "0.0.0"
  }
 },
 "nbformat": 4,
 "nbformat_minor": 2
}
